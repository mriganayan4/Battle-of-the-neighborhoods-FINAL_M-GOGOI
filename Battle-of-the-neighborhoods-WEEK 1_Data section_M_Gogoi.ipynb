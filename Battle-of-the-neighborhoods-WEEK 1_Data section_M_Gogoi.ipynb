{
 "cells": [
  {
   "cell_type": "markdown",
   "metadata": {},
   "source": [
    "### __Data section__"
   ]
  },
  {
   "cell_type": "markdown",
   "metadata": {},
   "source": [
    "Data on London properties and the relative price paid statistics were extracted from the HM Land Registry (http://landregistry.data.gov.uk/). The following fields comprise of the address data included in Price Paid Data: Postcode; PAON Primary Addressable Object Name. Typically, the house number or name; SAON Secondary Addressable Object Name. If there is a sub-building, for example, the building is divided into flats, there will be a SAON; Street; Locality; Town/City; District; County.\n",
    "To discover and target recommended sites across different locations according to the presence of facilities and vital amenities, we will access data through FourSquare API interface and arrange them as a data frame for imagining. By amalgamation of data on London properties and the relative price paid data from the HM Land Registry and data on amenities and essential facilities surrounding such chattels from FourSquare API interface, we will be able to endorse profitable real estate investments.\n"
   ]
  },
  {
   "cell_type": "code",
   "execution_count": null,
   "metadata": {},
   "outputs": [],
   "source": []
  }
 ],
 "metadata": {
  "kernelspec": {
   "display_name": "Python",
   "language": "python",
   "name": "conda-env-python-py"
  },
  "language_info": {
   "codemirror_mode": {
    "name": "ipython",
    "version": 3
   },
   "file_extension": ".py",
   "mimetype": "text/x-python",
   "name": "python",
   "nbconvert_exporter": "python",
   "pygments_lexer": "ipython3",
   "version": "3.6.7"
  }
 },
 "nbformat": 4,
 "nbformat_minor": 4
}
