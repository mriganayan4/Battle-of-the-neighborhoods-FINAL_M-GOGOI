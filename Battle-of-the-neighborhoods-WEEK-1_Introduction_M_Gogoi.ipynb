{
 "cells": [
  {
   "cell_type": "markdown",
   "metadata": {},
   "source": [
    "# Capstone Project - The Battle of Neighborhoods-WEEK 1 - M Gogoi"
   ]
  },
  {
   "cell_type": "markdown",
   "metadata": {},
   "source": [
    "# Introduction"
   ]
  },
  {
   "cell_type": "markdown",
   "metadata": {},
   "source": [
    "### __Background__"
   ]
  },
  {
   "cell_type": "markdown",
   "metadata": {},
   "source": [
    "The Economist states that the London Housing Market is taking a downward spiral. It is now facing several different headwinds, including the outlook of higher taxes and a dire warning from the Bank of England that U.K. home values could fall as much as 30% in the occasion of a muddled exodus from the European Union. More precisely, four overlooked cracks advocate that the London market may be in worst shape than many apprehend: hidden price falls, record-low sales, homebuilder emigration and tax hikes addressing overseas purchasers of households in England and Wales."
   ]
  },
  {
   "cell_type": "markdown",
   "metadata": {},
   "source": [
    "### __Business Problem__"
   ]
  },
  {
   "cell_type": "markdown",
   "metadata": {},
   "source": [
    "In this situation, it is crucial to implement machine learning tools in order to support homebuyer clienteles in London to make intelligent and effective choices and decisions. As a result of this, the business problem we are now proposing is: how could we deliver support to homebuyers clientele in London to purchase an appropriate real estate in this times of ambiguous economic and financial situations?\n",
    "To solve this business problem, we are going to cluster London neighborhoods in order to recommend locations and the current average price of real estate where homebuyers can make a real estate investment. We will recommend moneymaking venues according to facilities and essential amenities surrounding such locations i.e. elementary schools, high schools, hospitals, grocery stores, fitness centers, parks etc.\n"
   ]
  },
  {
   "cell_type": "code",
   "execution_count": null,
   "metadata": {},
   "outputs": [],
   "source": []
  }
 ],
 "metadata": {
  "kernelspec": {
   "display_name": "Python",
   "language": "python",
   "name": "conda-env-python-py"
  },
  "language_info": {
   "codemirror_mode": {
    "name": "ipython",
    "version": 3
   },
   "file_extension": ".py",
   "mimetype": "text/x-python",
   "name": "python",
   "nbconvert_exporter": "python",
   "pygments_lexer": "ipython3",
   "version": "3.6.7"
  }
 },
 "nbformat": 4,
 "nbformat_minor": 4
}
